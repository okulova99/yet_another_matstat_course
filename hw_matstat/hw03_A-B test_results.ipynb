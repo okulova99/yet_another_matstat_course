{
 "cells": [
  {
   "cell_type": "markdown",
   "metadata": {},
   "source": [
    "# Результаты A/B теста\n",
    "</center>\n",
    "\n",
    "> Если орел — я выиграла, если решка — ты проиграл.\n",
    "\n",
    "$\\qquad$ Рейчел из друзей\n"
   ]
  },
  {
   "cell_type": "markdown",
   "metadata": {},
   "source": [
    "Будем анализировать А/Б тест, проведенный на реальных пользователях Яндекса.\n",
    "\n",
    "### Описание данных:\n",
    "\n",
    "* `userID` — уникальный идентификатор пользователя\n",
    "* `browser` — браузер, который использовал userID\n",
    "* `slot` — в каком статусе пользователь участвовал в исследовании (exp = видел измененную страницу, control = видел неизменную страницу)\n",
    "* `n_clicks` — количество кликов, которые пользоваль совершил за n_queries\n",
    "* `n_queries` — количество запросов, который совершил userID, пользуясь браузером browser\n",
    "* `n_nonclk_queries` — количество запросов пользователя, в которых им не было совершено ни одного клика\n",
    "\n",
    "Замечание: не все люди используют только один браузер, поэтому в столбце userID есть повторяющиеся идентификаторы. В предлагаемых данных уникальным является сочетание userID и browser."
   ]
  },
  {
   "cell_type": "code",
   "execution_count": 1,
   "metadata": {},
   "outputs": [],
   "source": [
    "import numpy as np\n",
    "import pandas as pd\n",
    "from scipy import stats as sts\n",
    "import seaborn as sns\n",
    "import matplotlib.pyplot as plt"
   ]
  },
  {
   "cell_type": "code",
   "execution_count": 2,
   "metadata": {},
   "outputs": [
    {
     "name": "stdout",
     "output_type": "stream",
     "text": [
      "(566134, 8)\n"
     ]
    },
    {
     "data": {
      "text/html": [
       "<div>\n",
       "<style scoped>\n",
       "    .dataframe tbody tr th:only-of-type {\n",
       "        vertical-align: middle;\n",
       "    }\n",
       "\n",
       "    .dataframe tbody tr th {\n",
       "        vertical-align: top;\n",
       "    }\n",
       "\n",
       "    .dataframe thead th {\n",
       "        text-align: right;\n",
       "    }\n",
       "</style>\n",
       "<table border=\"1\" class=\"dataframe\">\n",
       "  <thead>\n",
       "    <tr style=\"text-align: right;\">\n",
       "      <th></th>\n",
       "      <th>userID</th>\n",
       "      <th>browser</th>\n",
       "      <th>slot</th>\n",
       "      <th>n_clicks</th>\n",
       "      <th>n_queries</th>\n",
       "      <th>n_nonclk_queries</th>\n",
       "      <th>click_per_queries</th>\n",
       "      <th>empty_query_share</th>\n",
       "    </tr>\n",
       "  </thead>\n",
       "  <tbody>\n",
       "    <tr>\n",
       "      <th>0</th>\n",
       "      <td>1</td>\n",
       "      <td>Browser #2</td>\n",
       "      <td>exp</td>\n",
       "      <td>23</td>\n",
       "      <td>32</td>\n",
       "      <td>19</td>\n",
       "      <td>0.718750</td>\n",
       "      <td>0.593750</td>\n",
       "    </tr>\n",
       "    <tr>\n",
       "      <th>1</th>\n",
       "      <td>3</td>\n",
       "      <td>Browser #4</td>\n",
       "      <td>exp</td>\n",
       "      <td>3</td>\n",
       "      <td>4</td>\n",
       "      <td>2</td>\n",
       "      <td>0.750000</td>\n",
       "      <td>0.500000</td>\n",
       "    </tr>\n",
       "    <tr>\n",
       "      <th>2</th>\n",
       "      <td>5</td>\n",
       "      <td>Browser #4</td>\n",
       "      <td>exp</td>\n",
       "      <td>29</td>\n",
       "      <td>35</td>\n",
       "      <td>16</td>\n",
       "      <td>0.828571</td>\n",
       "      <td>0.457143</td>\n",
       "    </tr>\n",
       "    <tr>\n",
       "      <th>3</th>\n",
       "      <td>6</td>\n",
       "      <td>Browser #4</td>\n",
       "      <td>control</td>\n",
       "      <td>12</td>\n",
       "      <td>6</td>\n",
       "      <td>0</td>\n",
       "      <td>2.000000</td>\n",
       "      <td>0.000000</td>\n",
       "    </tr>\n",
       "    <tr>\n",
       "      <th>4</th>\n",
       "      <td>7</td>\n",
       "      <td>Browser #4</td>\n",
       "      <td>exp</td>\n",
       "      <td>54</td>\n",
       "      <td>68</td>\n",
       "      <td>30</td>\n",
       "      <td>0.794118</td>\n",
       "      <td>0.441176</td>\n",
       "    </tr>\n",
       "  </tbody>\n",
       "</table>\n",
       "</div>"
      ],
      "text/plain": [
       "   userID     browser     slot  n_clicks  n_queries  n_nonclk_queries  \\\n",
       "0       1  Browser #2      exp        23         32                19   \n",
       "1       3  Browser #4      exp         3          4                 2   \n",
       "2       5  Browser #4      exp        29         35                16   \n",
       "3       6  Browser #4  control        12          6                 0   \n",
       "4       7  Browser #4      exp        54         68                30   \n",
       "\n",
       "   click_per_queries  empty_query_share  \n",
       "0           0.718750           0.593750  \n",
       "1           0.750000           0.500000  \n",
       "2           0.828571           0.457143  \n",
       "3           2.000000           0.000000  \n",
       "4           0.794118           0.441176  "
      ]
     },
     "execution_count": 2,
     "metadata": {},
     "output_type": "execute_result"
    }
   ],
   "source": [
    "df = pd.read_csv('data/ab_browser_test.csv',sep=',')\n",
    "\n",
    "df['click_per_queries'] = df['n_clicks']/df['n_queries']\n",
    "df['empty_query_share'] = df['n_nonclk_queries']/df['n_queries']\n",
    "\n",
    "print(df.shape)\n",
    "df.head()"
   ]
  },
  {
   "cell_type": "markdown",
   "metadata": {},
   "source": [
    "Будем работать с числом кликов на количество пользовательских сессий. \n",
    "\n",
    "> Вообще, это ratio-метрика и к ней нужен особый подход. Пока что будем это игнорировать. В целом, можно откатиться к кликам и работать с их средним, но методологически правильнее отнормировать их на число сессий."
   ]
  },
  {
   "cell_type": "markdown",
   "metadata": {},
   "source": [
    "Посчитаем, насколько в группе exp больше пользовательских кликов по сравнению с группой control в процентах от числа кликов в контрольной группе."
   ]
  },
  {
   "cell_type": "code",
   "execution_count": 3,
   "metadata": {},
   "outputs": [
    {
     "data": {
      "text/plain": [
       "1.6135689824415822"
      ]
     },
     "execution_count": 3,
     "metadata": {},
     "output_type": "execute_result"
    }
   ],
   "source": [
    "# ваш код\n",
    "\n",
    "100 * (df.groupby('slot')['n_clicks'].sum()['exp']/df.groupby('slot')['n_clicks'].sum()['control'] - 1)"
   ]
  },
  {
   "cell_type": "markdown",
   "metadata": {},
   "source": [
    "Поскольку данных достаточно много (порядка полумиллиона уникальных пользователей), отличие в несколько процентов может быть не только практически значимым, но и значимым статистически. Последнее утверждение нуждается в дополнительной проверке."
   ]
  },
  {
   "cell_type": "markdown",
   "metadata": {},
   "source": [
    "## Часть 1: анализ А/Б-теста"
   ]
  },
  {
   "cell_type": "markdown",
   "metadata": {},
   "source": [
    "Внимательнее посмотрим на то, что происходит с кликами в наших пользовательских сессиях. Для этого построим для контрольной и тестовой групп визуализации."
   ]
  },
  {
   "cell_type": "code",
   "execution_count": 4,
   "metadata": {},
   "outputs": [
    {
     "data": {
      "text/plain": [
       "<Axes: ylabel='click_per_queries'>"
      ]
     },
     "execution_count": 4,
     "metadata": {},
     "output_type": "execute_result"
    },
    {
     "data": {
      "image/png": "[encoded data removed]",
      "text/plain": [
       "<Figure size 640x480 with 1 Axes>"
      ]
     },
     "metadata": {},
     "output_type": "display_data"
    }
   ],
   "source": [
    "sns.boxplot(data=df, y='click_per_queries', hue='slot', orient='v', log_scale=True)"
   ]
  },
  {
   "cell_type": "code",
   "execution_count": 5,
   "metadata": {},
   "outputs": [
    {
     "data": {
      "text/plain": [
       "(21477, 22077)"
      ]
     },
     "execution_count": 5,
     "metadata": {},
     "output_type": "execute_result"
    }
   ],
   "source": [
    "q1, q2 = np.quantile(df[df['slot']=='exp']['click_per_queries'],[0.25, 0.75])\n",
    "IQR = abs(q2 - q1)\n",
    "left, right = q1 - 1.0 * IQR, q2 + 1.0 * IQR\n",
    "\n",
    "exp = df[df['slot']=='exp']['click_per_queries']\n",
    "control = df[df['slot']=='control']['click_per_queries']\n",
    "\n",
    "q1_exp, q2_exp = np.quantile(exp,[0.25, 0.75])\n",
    "IQR_exp= abs(q2_exp - q1_exp)\n",
    "left_exp, right_exp = q1_exp - 1.0 * IQR_exp, q2_exp + 1.0 * IQR_exp\n",
    "\n",
    "exp_clear =  exp.loc[(exp >= left_exp) & (exp <= right_exp)]\n",
    "exp_outlier = exp.loc[(exp < left_exp) | (exp > right_exp)]\n",
    "\n",
    "q1_control, q2_control = np.quantile(control,[0.25, 0.75])\n",
    "IQR_control = abs(q2_control - q1_control)\n",
    "left_control, right_control = q1_control - 1.0 * IQR_control, q2_control + 1.0 * IQR_control\n",
    "\n",
    "control_clear =  control.loc[(control >= left_control) & (control <= right_control)]\n",
    "control_outlier = control.loc[(control < left_control) | (control > right_control)]\n",
    "\n",
    "control_outlier.shape[0], exp_outlier.shape[0]"
   ]
  },
  {
   "cell_type": "code",
   "execution_count": 6,
   "metadata": {},
   "outputs": [
    {
     "data": {
      "text/plain": [
       "<Axes: title={'center': 'Control group'}, xlabel='click_per_queries', ylabel='Count'>"
      ]
     },
     "execution_count": 6,
     "metadata": {},
     "output_type": "execute_result"
    },
    {
     "data": {
      "image/png": "[encoded data removed]",
      "text/plain": [
       "<Figure size 1000x500 with 2 Axes>"
      ]
     },
     "metadata": {},
     "output_type": "display_data"
    }
   ],
   "source": [
    "fig, axes = plt.subplots(1,2, sharey=True, figsize=(10,5))\n",
    "fig.suptitle('Click per queries density')\n",
    "\n",
    "axes[0].set_title('Treatment group')\n",
    "sns.histplot(exp_clear,ax=axes[0])\n",
    "\n",
    "axes[1].set_title('Control group')\n",
    "sns.histplot(control_clear, ax=axes[1])"
   ]
  },
  {
   "cell_type": "code",
   "execution_count": 7,
   "metadata": {},
   "outputs": [],
   "source": [
    "df_clear = df.iloc[exp_clear.index.to_list()+control_clear.index.to_list()]"
   ]
  },
  {
   "cell_type": "code",
   "execution_count": 8,
   "metadata": {},
   "outputs": [
    {
     "data": {
      "text/plain": [
       "<Axes: ylabel='click_per_queries'>"
      ]
     },
     "execution_count": 8,
     "metadata": {},
     "output_type": "execute_result"
    },
    {
     "data": {
      "image/png": "[encoded data removed]",
      "text/plain": [
       "<Figure size 640x480 with 1 Axes>"
      ]
     },
     "metadata": {},
     "output_type": "display_data"
    }
   ],
   "source": [
    "sns.boxplot(data=df_clear, y='click_per_queries', hue='slot', orient='v')"
   ]
  },
  {
   "cell_type": "code",
   "execution_count": 27,
   "metadata": {},
   "outputs": [
    {
     "data": {
      "image/png": "[encoded data removed]",
      "text/plain": [
       "<Figure size 640x480 with 1 Axes>"
      ]
     },
     "metadata": {},
     "output_type": "display_data"
    }
   ],
   "source": [
    "exp_quantiles = []\n",
    "control_quantiles = []\n",
    "\n",
    "quantiles = np.linspace(0, 1, 11)\n",
    "\n",
    "for q in quantiles:\n",
    "    exp_quantiles.append(np.quantile(exp_clear, q))\n",
    "    control_quantiles.append(np.quantile(control_clear, q))\n",
    "\n",
    "sns.scatterplot(x=exp_quantiles, y=control_quantiles)\n",
    "plt.show()"
   ]
  },
  {
   "cell_type": "code",
   "execution_count": 28,
   "metadata": {},
   "outputs": [
    {
     "data": {
      "image/png": "[encoded data removed]",
      "text/plain": [
       "<Figure size 640x480 with 1 Axes>"
      ]
     },
     "metadata": {},
     "output_type": "display_data"
    }
   ],
   "source": [
    "import statsmodels.api as sm\n",
    "from statsmodels.graphics.gofplots import qqplot_2samples\n",
    "\n",
    "import matplotlib.pyplot as plt\n",
    "\n",
    "pp_exp = sm.ProbPlot(exp_clear)\n",
    "pp_control = sm.ProbPlot(control_clear)\n",
    "\n",
    "sm.qqplot_2samples(pp_exp, pp_control, line='45')\n",
    "plt.show()"
   ]
  },
  {
   "cell_type": "code",
   "execution_count": 11,
   "metadata": {},
   "outputs": [
    {
     "data": {
      "text/plain": [
       "(7.55, 7.84)"
      ]
     },
     "execution_count": 11,
     "metadata": {},
     "output_type": "execute_result"
    }
   ],
   "source": [
    "round(100 * control_outlier.shape[0]/control.shape[0], 2), round(100 * exp_outlier.shape[0]/exp.shape[0], 2)"
   ]
  },
  {
   "cell_type": "markdown",
   "metadata": {},
   "source": [
    "### Наблюдения:\n",
    "\n",
    "- Похоже на то, что данные пришли из одного распределения и в группах отличия только в сдвиге (идеально для теста Манна-Уитни?)\n",
    "- В каждой группе есть выбросы (по 7.55 и 7.84% в контролной и тестовой соответственно), тогда $z$-тест нам не подходит? Однако, мы не можем наверняка знать, насколько серьезное влияние эти выбросы оказали на ЦПТ и сломали ли они ее.\n",
    "- старый-добрый ~~synn-vynn~~ bootstrap?\n",
    "\n",
    "Если посчитать по выброкам средние и медианы, они окажутся очень похожими:"
   ]
  },
  {
   "cell_type": "code",
   "execution_count": 12,
   "metadata": {},
   "outputs": [
    {
     "data": {
      "text/plain": [
       "(0.9230769230769231, 1.0060762464684896, 1.0, 1.0814744251480255)"
      ]
     },
     "execution_count": 12,
     "metadata": {},
     "output_type": "execute_result"
    }
   ],
   "source": [
    "control.median(), control.mean(), exp.median(), exp.mean(), "
   ]
  },
  {
   "cell_type": "markdown",
   "metadata": {},
   "source": [
    "Попробуем применить бутстрап, чтобы понять, как распределена z-статистика и сравнить ее распределение с нормальным (ограничимся в рамках нее контрольной группой)\n",
    "\n",
    "Поскольку мы знаем, что $\\text{Var}(\\bar X_n) = \\frac{\\sigma^2}{n}$, нам не нужно делать бутстрап в бутстрапе (наш случай - __параметрический бутстрап__).\n",
    "\n",
    "1. Получите из данных `n_boot_samples` псевдовыборок,\n",
    "2. По каждой из этих выборок посчитайте среднее и его дисперсию,\n",
    "3. Рассчитаем значения $z$-статистик,\n",
    "4. Для получившегося вектора из $z$-статистик построим `qq-plot` с помощью ` scipy.stats.probplot` для нормального распределения."
   ]
  },
  {
   "cell_type": "code",
   "execution_count": null,
   "metadata": {},
   "outputs": [],
   "source": [
    "np.random.seed(42)\n",
    "\n",
    "n_boot_samples = 10**4\n",
    "n = control.size\n",
    "theta = control.mean()\n",
    "\n",
    "theta_hat = []\n",
    "sigma_hat = []\n",
    "for _ in range(n_boot_samples):\n",
    "    bootstrap_sample = np.random.choice(control, size=n, replace=True)\n",
    "    theta_hat.append(np.mean(bootstrap_sample))\n",
    "\n",
    "se_theta_hat = np.sqrt(np.var(theta_hat, ddof=1)/n)\n",
    "\n",
    "z = (theta_hat - theta) / se_theta_hat"
   ]
  },
  {
   "cell_type": "code",
   "execution_count": 29,
   "metadata": {},
   "outputs": [
    {
     "data": {
      "image/png": "[encoded data removed]",
      "text/plain": [
       "<Figure size 640x480 with 1 Axes>"
      ]
     },
     "metadata": {},
     "output_type": "display_data"
    }
   ],
   "source": [
    "sm.qqplot(z, sts.norm, line='s')\n",
    "\n",
    "plt.show()"
   ]
  },
  {
   "cell_type": "markdown",
   "metadata": {},
   "source": [
    "Xвосты распределения немного отличаются от стандартного нормального. Пока сделаем вид, что все хорошо и отличия на хвостах нет. Проверим гипотезу о равенстве средних между группами с помощью $z-$теста на уровне значимости $1\\%$."
   ]
  },
  {
   "cell_type": "code",
   "execution_count": 51,
   "metadata": {},
   "outputs": [
    {
     "data": {
      "text/plain": [
       "0.0"
      ]
     },
     "execution_count": 51,
     "metadata": {},
     "output_type": "execute_result"
    }
   ],
   "source": [
    "alpha = 0.01\n",
    "x_hat_control = np.mean(control)\n",
    "x_hat_exp = np.mean(exp)\n",
    "diff = x_hat_exp - x_hat_control\n",
    "var_hat_control = np.var(control, ddof=1)/control.size\n",
    "var_hat_exp = np.var(exp, ddof=1)/exp.size\n",
    "\n",
    "\n",
    "z_obs = diff/np.sqrt(var_hat_control + var_hat_exp)\n",
    "\n",
    "p_val = 1 - sts.norm.cdf(z_obs)\n",
    "p_val"
   ]
  },
  {
   "cell_type": "code",
   "execution_count": 53,
   "metadata": {},
   "outputs": [
    {
     "data": {
      "text/plain": [
       "0.06452555515437397"
      ]
     },
     "execution_count": 53,
     "metadata": {},
     "output_type": "execute_result"
    }
   ],
   "source": [
    "np.mean(exp_clear) - np.mean(control_clear)"
   ]
  },
  {
   "cell_type": "code",
   "execution_count": 55,
   "metadata": {},
   "outputs": [
    {
     "data": {
      "text/plain": [
       "1.644853626951472"
      ]
     },
     "execution_count": 55,
     "metadata": {},
     "output_type": "execute_result"
    }
   ],
   "source": [
    "sts.norm.ppf(0.95, loc=0, scale=1)"
   ]
  },
  {
   "cell_type": "markdown",
   "metadata": {},
   "source": [
    "Попробуем понять, какими при таких объемах выборки оказываются MDE и ошибка второго рода. Конечно, же сделать это надо до проведения АБ-теста. Но не мы его готовили... Выберем какое-то адекватное значение MDE и получим, отталкиваясь от него, ошибку второго рода.\n",
    "\n",
    "Формула для расчета числа наблюдений __для одной группы:__\n",
    "\n",
    "$$\n",
    "n_{\\text{one group}} = \\frac{(\\sigma_A^2 + \\sigma_B^2) \\cdot (z_{1-\\frac{\\alpha}{2}} + z_{1-\\beta})^2}{MDE^2},\n",
    "$$"
   ]
  },
  {
   "cell_type": "code",
   "execution_count": 63,
   "metadata": {},
   "outputs": [
    {
     "data": {
      "text/plain": [
       "0.13810009476845542"
      ]
     },
     "execution_count": 63,
     "metadata": {},
     "output_type": "execute_result"
    }
   ],
   "source": [
    "mde = 0.01\n",
    "z_power = np.sqrt(control.size * (mde**2) / (np.var(control, ddof=1) + np.var(exp, ddof=1))) - sts.norm.ppf(1 - alpha/2, loc=0, scale=1)\n",
    "beta = 1 - sts.norm.cdf(z_power)\n",
    "\n",
    "beta"
   ]
  },
  {
   "cell_type": "markdown",
   "metadata": {},
   "source": [
    "Хвосты отличаются от стандартного нормального. По хорошему, для проверки гипотезы нужно использовать бутстрап. В контексте средних, на бутстрап можно смотреть как на технику, которая уточняет, насколько сильно хвосты распределения стали тяжелее по сравнению с ЦПТ. \n",
    "\n",
    "Проверим гипотезу с помощью бутстрапа!\n",
    "\n",
    "1. Посчитаем наблюдаемое значение статистики.\n",
    "2. Пусть $\\bar h$ - это среднее посчитанное по обеим выборкам вместе. Создадим две новые выборки $$x'_i = x_i - \\bar x + \\bar h \\\\ y'_i = y_i - \\bar y + \\bar h.$$ Такое рецентрирование сдвинет обе выборки к общему среднему и  позволит заложить в симуляцию информацию о верности нулевой гипотезы. \n",
    "3. Сбутстрапируем выборки $x^{*}$ и $y^{*}$ из $x'$ и $y'$. Рассчитаем значение z-статистики. Повторим процедуру $B$ раз.\n",
    "4. Для оценки `p-value` воспользуемся формулой:\n",
    "\n",
    "$$\n",
    "2 * \\frac{1}{B} \\sum_{i=1}^B [z_i^{*} \\ge z_{obs}]\n",
    "$$"
   ]
  },
  {
   "cell_type": "code",
   "execution_count": 74,
   "metadata": {},
   "outputs": [
    {
     "data": {
      "text/plain": [
       "0.0"
      ]
     },
     "execution_count": 74,
     "metadata": {},
     "output_type": "execute_result"
    }
   ],
   "source": [
    "h_ = df['click_per_queries'].mean()\n",
    "\n",
    "control_recentered = control - x_hat_control + h_\n",
    "exp_recentered = exp - x_hat_exp + h_\n",
    "\n",
    "\n",
    "b = 10**4\n",
    "\n",
    "n_control = control.size\n",
    "n_exp = exp.size\n",
    "\n",
    "control_means = []\n",
    "exp_means = []\n",
    "\n",
    "diff_bootstrap = []\n",
    "\n",
    "for _ in range(b):\n",
    "    sample_control = np.random.choice(control_recentered, size=n_control, replace=True)\n",
    "    sample_exp = np.random.choice(exp_recentered, size=n_exp, replace=True)\n",
    "\n",
    "    diff_bootstrap.append(np.mean(sample_exp) - np.mean(sample_control))\n",
    "\n",
    "observed_diff = np.mean(exp) - np.mean(control)\n",
    "\n",
    "p_value_bootstrap = 2 * np.mean(np.abs(diff_bootstrap) >= np.abs(observed_diff))\n",
    "\n",
    "p_value_bootstrap"
   ]
  },
  {
   "cell_type": "code",
   "execution_count": 72,
   "metadata": {},
   "outputs": [
    {
     "name": "stdout",
     "output_type": "stream",
     "text": [
      "0.07539817867953591\n"
     ]
    },
    {
     "data": {
      "text/plain": [
       "<Axes: ylabel='Count'>"
      ]
     },
     "execution_count": 72,
     "metadata": {},
     "output_type": "execute_result"
    },
    {
     "data": {
      "image/png": "[encoded data removed]",
      "text/plain": [
       "<Figure size 640x480 with 1 Axes>"
      ]
     },
     "metadata": {},
     "output_type": "display_data"
    }
   ],
   "source": [
    "print(observed_diff)\n",
    "sns.histplot(diff_bootstrap)"
   ]
  },
  {
   "cell_type": "markdown",
   "metadata": {},
   "source": [
    "__Ответьте на следующие вопросы:__\n",
    "\n",
    "- Изменились ли выводы АБ-теста?\n",
    "- Насколько сильно критическое значение статистики, полученной с помощью бутстрэпа, отличается от киритческого значения нормального распределения?\n",
    "- Какую из ошибок (1 рода/2 рода) вы будете чаще совершать, если в ситуации с толстыми хвостами будете пользоваться нормальным распредеелнием? Насколько чаще будет возникать эта ошибка?"
   ]
  },
  {
   "cell_type": "markdown",
   "metadata": {},
   "source": [
    "__[10 баллов]__ Насколько больше наблюдений нам необходимо для проверки гипотезы по сравнению с z-тестом? Для ответа на этот вопрос подставьте критические значение из бустрап-распределения в формулу для оценки числа наблюдений. В качестве MDE возьмите величину, которую вы сами зафикисировали в прошлых пунктах. В качестве ошибки второго рода возьмите получившуюся при рассчётах величину."
   ]
  },
  {
   "cell_type": "code",
   "execution_count": null,
   "metadata": {},
   "outputs": [],
   "source": [
    "# ваш код"
   ]
  },
  {
   "cell_type": "markdown",
   "metadata": {},
   "source": [
    "__[10 баллов]__ Проверьте ту же гипотезу тестом Манна-Уитни. Используйте для этого функцию `scipy.stats.mannwhitneyu`."
   ]
  },
  {
   "cell_type": "code",
   "execution_count": null,
   "metadata": {},
   "outputs": [],
   "source": [
    "# ваш код "
   ]
  },
  {
   "cell_type": "markdown",
   "metadata": {},
   "source": [
    "При $n,m \\to \\infty$ статистика Манна-Уитни сходится к нормальному распределению со следующими параметрами: \n",
    "\n",
    "$$\n",
    "U \\Rightarrow N \\left( \\frac{n_T \\cdot n_C}{2}, \\frac{n_T \\cdot n_C \\cdot (n_T + n_C + 1)}{12} \\right)\n",
    "$$\n",
    "\n",
    "Отталкиваясь от этого приближения, определите сколько наблюдений нам необходимо для проверки гипотезы для тех же MDE и ошибки 2 рода, что и у z-теста/бустрапа."
   ]
  },
  {
   "cell_type": "code",
   "execution_count": null,
   "metadata": {},
   "outputs": [],
   "source": [
    "# ваш код"
   ]
  },
  {
   "cell_type": "markdown",
   "metadata": {},
   "source": [
    "__[10 баллов]__ У многих аналитиков с теста Манна-Уитни подгорает жепа. Это происходит из-за того, что на практике его часто используют довольно бездумно. [Вот один из свежих примеров бомбежа.](https://habr.com/ru/companies/avito/articles/709596/) \n",
    "\n",
    "В нашем кейсе, если аккуратно посчитать квантили обоих распределений, можно увидеть, что в тестовой группе квантили и правда съехали вправо, а форма гистограмм не изменилась. В целом, это знак, что тест можно спокойно применять. Однако, квантили левее $0.1$ не поменялись. \n",
    "\n",
    "Вместо тесто Манна-Уитни на сдвиг распределения, мы можем попробовать проверить гипотезу о том, что наше распределение, в принципе, как-то поменялось. Для таких гипотез обычно используются критерии согласия. Проверьте гипотезу о том, что распределения тестовой и контрольной групп совпадают с помощью теста Колмогорова-Смирнова `scipy.stats.ks_2sam`."
   ]
  },
  {
   "cell_type": "code",
   "execution_count": null,
   "metadata": {},
   "outputs": [],
   "source": [
    "# ваш код "
   ]
  },
  {
   "cell_type": "markdown",
   "metadata": {},
   "source": [
    "Насколько сильно друг от друга отличаются p-значения этих тестов? Как думаете, почему отличие именно такое?\n",
    "\n",
    "__Ответ:__"
   ]
  },
  {
   "cell_type": "markdown",
   "metadata": {},
   "source": [
    "## Часть 2: CUPED\n",
    "\n",
    "Попробуем натянуть сову на глобус. Давайте сделаем вид, что на самом деле первые $50\\%$ таблицы это выборка, которая у нас была до эксперимента. Попробуем провернуть CUPED. \n",
    "\n",
    "__[10 баллов]__ рассчитайте значение стандартной ошибки для $z$-статистики по второй части выборки. С помощью CUPED мы будем пытаться уменьшить значение этой ошибки."
   ]
  },
  {
   "cell_type": "code",
   "execution_count": null,
   "metadata": {},
   "outputs": [],
   "source": [
    "# ваш код"
   ]
  },
  {
   "cell_type": "markdown",
   "metadata": {},
   "source": [
    "__[20 баллов]__ теперь проверните CUPED. Используйте значение целевой переменной из первой части выборки как ковариату.\n",
    "\n",
    "Для оценки линейных моделей используйте пакет `statsmodels`. Пример того, как это можно делать [есть тут.](https://github.com/FUlyankin/matstat-AB/blob/main/week13_linreg/11_python_regression.ipynb) Предполагайте, что в данных есть гетероскедастичность. Для её фикса пользуйтесь `HC-3`.\n",
    "\n",
    "Насколько у нас получилось уменьшить стандартную ошибку?"
   ]
  },
  {
   "cell_type": "code",
   "execution_count": null,
   "metadata": {},
   "outputs": [],
   "source": [
    "# ваш код"
   ]
  },
  {
   "cell_type": "markdown",
   "metadata": {},
   "source": [
    "__[20 баллов]__ Ровно по той же схеме проверните CUPAC. В качестве базовой модели возьмите какой-нибудь градиентный бустинг. Насколько у нас получилось уменьшить стандартную ошибку? "
   ]
  },
  {
   "cell_type": "code",
   "execution_count": null,
   "metadata": {},
   "outputs": [],
   "source": [
    "# ваш код"
   ]
  },
  {
   "cell_type": "markdown",
   "metadata": {},
   "source": [
    "__[10 баллов]__ Финальный вопрос! А как использовать эту новую стандартную ошибку в формуле для рассчёта числа наблюдений? Выясните при выбранном выми MDE, какая у нас будет ошибка второго рода в CUPED и CUPAC, если в АБ-тесте будет участвовать только половина наблюдений."
   ]
  },
  {
   "cell_type": "code",
   "execution_count": null,
   "metadata": {},
   "outputs": [],
   "source": [
    "# ваш код"
   ]
  }
 ],
 "metadata": {
  "kernelspec": {
   "display_name": "base",
   "language": "python",
   "name": "python3"
  },
  "language_info": {
   "codemirror_mode": {
    "name": "ipython",
    "version": 3
   },
   "file_extension": ".py",
   "mimetype": "text/x-python",
   "name": "python",
   "nbconvert_exporter": "python",
   "pygments_lexer": "ipython3",
   "version": "3.12.7"
  }
 },
 "nbformat": 4,
 "nbformat_minor": 1
}
